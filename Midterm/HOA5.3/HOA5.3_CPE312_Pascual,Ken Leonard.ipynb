{
 "cells": [
  {
   "cell_type": "markdown",
   "id": "175241c3-c8ea-43ea-a1a9-89dce8a75c2a",
   "metadata": {},
   "source": [
    "# Activity 5.3: Bagging, Boosting, and Stacking"
   ]
  },
  {
   "cell_type": "markdown",
   "id": "6d492404-3a5e-4bdf-8a9b-f232e7ac2518",
   "metadata": {},
   "source": [
    "Intended Learning Outcomes (ILOs):\n",
    "* Demonstrate the use of bagging technique for classification and regression tasks\n",
    "* Demonstrate boosting and stacking models in solving an identified problem."
   ]
  },
  {
   "cell_type": "markdown",
   "id": "6dc7b8f5-4aa2-41eb-b30d-2e8e2b67bac6",
   "metadata": {},
   "source": [
    "Resources:\n",
    "\n",
    "* Jupyter Notebook<br>\n",
    "* emails.csv"
   ]
  },
  {
   "cell_type": "markdown",
   "id": "ff738fa7-d8cd-495b-acd2-1e3c31c8ca39",
   "metadata": {},
   "source": [
    "## Procedure:"
   ]
  },
  {
   "cell_type": "markdown",
   "id": "609fa5a1-cca2-4b77-8078-cc741599f4be",
   "metadata": {},
   "source": [
    "For this activity, you need to perform the following tasks:"
   ]
  },
  {
   "cell_type": "markdown",
   "id": "c50f1b1d-cb74-4315-b0a8-125e343433b4",
   "metadata": {},
   "source": [
    "1. Check the following resources for a review of Bagging and Boosting and Stacking.\n",
    "   * [Bagging_Exercises.ipynb](https://drive.google.com/file/d/1O-xLD-n1lgqMoXL79FHZcO_ePJd3RgDA/view?usp=sharing)\n",
    "   * [Boosting_and_Stacking_Exercises_ANSWERS.ipynb](https://drive.google.com/file/d/1jswsZAkeoWJV8TBM3hdB16tbB-KKlh75/view?usp=sharing)"
   ]
  },
  {
   "cell_type": "markdown",
   "id": "b13b3f06-5b56-4cb7-8a94-705a38488a04",
   "metadata": {},
   "source": [
    "2. Using your own dataset, perform bagging."
   ]
  },
  {
   "cell_type": "code",
   "execution_count": 40,
   "id": "2eb9392f-12ab-4426-a313-7bffb4b33aad",
   "metadata": {},
   "outputs": [],
   "source": [
    "#libraries needed\n",
    "import pandas as pd\n",
    "import numpy as np\n",
    "import matplotlib.pyplot as plt\n",
    "import seaborn as sns\n",
    "\n",
    "from tqdm import tqdm\n",
    "from sklearn.model_selection import train_test_split\n",
    "#KNN\n",
    "from sklearn.neighbors import KNeighborsClassifier\n",
    "#SVM\n",
    "from sklearn.svm import SVC\n",
    "#Logistic Regression\n",
    "from sklearn.linear_model import LogisticRegression\n",
    "#Random Forest and Bagging\n",
    "from sklearn.ensemble import (RandomForestClassifier, BaggingClassifier)\n",
    "from sklearn.metrics import (\n",
    "    classification_report,\n",
    "    accuracy_score,\n",
    "    confusion_matrix,\n",
    "    roc_auc_score\n",
    ")"
   ]
  },
  {
   "cell_type": "code",
   "execution_count": null,
   "id": "e47acec0-795f-4d64-a75f-2b0e421a6e70",
   "metadata": {},
   "outputs": [],
   "source": [
    "#import data\n",
    "email = pd.read_csv('emails.csv')\n",
    "email.head()"
   ]
  },
  {
   "cell_type": "markdown",
   "id": "2e905dc7-336f-4dbd-9534-70ecdc85fbce",
   "metadata": {},
   "source": [
    "3. Using your own dataset, perform boosting (AdaBoost, XGBoost, and etc) and stacking."
   ]
  },
  {
   "cell_type": "markdown",
   "id": "10a019b3-f63b-4eb8-9a26-3a364a724225",
   "metadata": {},
   "source": [
    "4. For stacking, identify the different models you used and their performances vs their performance when stacked."
   ]
  },
  {
   "cell_type": "markdown",
   "id": "b28917b8-9605-4ed1-8b5c-76242129fae8",
   "metadata": {},
   "source": [
    "5. Evaluate the different ensemble learning methods used in this activity."
   ]
  }
 ],
 "metadata": {
  "kernelspec": {
   "display_name": "Python [conda env:CPE312_Pascual]",
   "language": "python",
   "name": "conda-env-CPE312_Pascual-py"
  },
  "language_info": {
   "codemirror_mode": {
    "name": "ipython",
    "version": 3
   },
   "file_extension": ".py",
   "mimetype": "text/x-python",
   "name": "python",
   "nbconvert_exporter": "python",
   "pygments_lexer": "ipython3",
   "version": "3.12.11"
  }
 },
 "nbformat": 4,
 "nbformat_minor": 5
}
