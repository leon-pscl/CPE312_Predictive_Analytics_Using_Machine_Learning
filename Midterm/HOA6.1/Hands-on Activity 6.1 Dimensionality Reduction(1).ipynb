{
 "cells": [
  {
   "cell_type": "markdown",
   "metadata": {
    "id": "5gXMCMByD6FD"
   },
   "source": [
    "# Activity 6.1 Dimensionality Reduction"
   ]
  },
  {
   "cell_type": "markdown",
   "metadata": {
    "id": "Tba3oPt4D6FF"
   },
   "source": [
    "#### Objective:\n",
    "\n",
    "This activity aims to perform reduction of dimensions using PCA"
   ]
  },
  {
   "cell_type": "markdown",
   "metadata": {
    "id": "sy7bAn92D6FK"
   },
   "source": [
    "#### Intended Learning Outcomes (ILOs):\n",
    "* Demonstrate how to use pipelining for transformation and scaling.\n",
    "* Deomnstrate how to perform principal component analysis to reduce dimension.\n"
   ]
  },
  {
   "cell_type": "markdown",
   "metadata": {
    "id": "r2ojdwGXD6FK"
   },
   "source": [
    "#### Resources:\n",
    "* Jupyter Notebook\n",
    "* Wholesale customers data.csv\n",
    "* Human_Activity_Recognition_Using_Smartphones_Data.csv"
   ]
  },
  {
   "cell_type": "markdown",
   "metadata": {
    "id": "cSXsNBKAD6Fd"
   },
   "source": [
    "#### Procedure:"
   ]
  },
  {
   "cell_type": "markdown",
   "metadata": {
    "id": "rb9QAQfhD6Fe"
   },
   "source": [
    "Import the data and check the data types.\n"
   ]
  },
  {
   "cell_type": "code",
   "execution_count": 1,
   "metadata": {
    "id": "FWunT2I9D6Ff"
   },
   "outputs": [
    {
     "data": {
      "text/plain": [
       "(440, 8)"
      ]
     },
     "execution_count": 1,
     "metadata": {},
     "output_type": "execute_result"
    }
   ],
   "source": [
    "import pandas as pd\n",
    "import numpy as np\n",
    "import seaborn as sns\n",
    "import matplotlib.pyplot as plt\n",
    "\n",
    "%matplotlib inline\n",
    "\n",
    "file = 'datasets/Wholesale customers data.csv'\n",
    "data = pd.read_csv(file)\n",
    "data.shape"
   ]
  },
  {
   "cell_type": "code",
   "execution_count": 2,
   "metadata": {
    "id": "Oh5N_wa8D6Fg"
   },
   "outputs": [
    {
     "data": {
      "text/html": [
       "<div>\n",
       "<style scoped>\n",
       "    .dataframe tbody tr th:only-of-type {\n",
       "        vertical-align: middle;\n",
       "    }\n",
       "\n",
       "    .dataframe tbody tr th {\n",
       "        vertical-align: top;\n",
       "    }\n",
       "\n",
       "    .dataframe thead th {\n",
       "        text-align: right;\n",
       "    }\n",
       "</style>\n",
       "<table border=\"1\" class=\"dataframe\">\n",
       "  <thead>\n",
       "    <tr style=\"text-align: right;\">\n",
       "      <th></th>\n",
       "      <th>Channel</th>\n",
       "      <th>Region</th>\n",
       "      <th>Fresh</th>\n",
       "      <th>Milk</th>\n",
       "      <th>Grocery</th>\n",
       "      <th>Frozen</th>\n",
       "      <th>Detergents_Paper</th>\n",
       "      <th>Delicassen</th>\n",
       "    </tr>\n",
       "  </thead>\n",
       "  <tbody>\n",
       "    <tr>\n",
       "      <th>0</th>\n",
       "      <td>2</td>\n",
       "      <td>3</td>\n",
       "      <td>12669</td>\n",
       "      <td>9656</td>\n",
       "      <td>7561</td>\n",
       "      <td>214</td>\n",
       "      <td>2674</td>\n",
       "      <td>1338</td>\n",
       "    </tr>\n",
       "    <tr>\n",
       "      <th>1</th>\n",
       "      <td>2</td>\n",
       "      <td>3</td>\n",
       "      <td>7057</td>\n",
       "      <td>9810</td>\n",
       "      <td>9568</td>\n",
       "      <td>1762</td>\n",
       "      <td>3293</td>\n",
       "      <td>1776</td>\n",
       "    </tr>\n",
       "    <tr>\n",
       "      <th>2</th>\n",
       "      <td>2</td>\n",
       "      <td>3</td>\n",
       "      <td>6353</td>\n",
       "      <td>8808</td>\n",
       "      <td>7684</td>\n",
       "      <td>2405</td>\n",
       "      <td>3516</td>\n",
       "      <td>7844</td>\n",
       "    </tr>\n",
       "    <tr>\n",
       "      <th>3</th>\n",
       "      <td>1</td>\n",
       "      <td>3</td>\n",
       "      <td>13265</td>\n",
       "      <td>1196</td>\n",
       "      <td>4221</td>\n",
       "      <td>6404</td>\n",
       "      <td>507</td>\n",
       "      <td>1788</td>\n",
       "    </tr>\n",
       "    <tr>\n",
       "      <th>4</th>\n",
       "      <td>2</td>\n",
       "      <td>3</td>\n",
       "      <td>22615</td>\n",
       "      <td>5410</td>\n",
       "      <td>7198</td>\n",
       "      <td>3915</td>\n",
       "      <td>1777</td>\n",
       "      <td>5185</td>\n",
       "    </tr>\n",
       "  </tbody>\n",
       "</table>\n",
       "</div>"
      ],
      "text/plain": [
       "   Channel  Region  Fresh  Milk  Grocery  Frozen  Detergents_Paper  Delicassen\n",
       "0        2       3  12669  9656     7561     214              2674        1338\n",
       "1        2       3   7057  9810     9568    1762              3293        1776\n",
       "2        2       3   6353  8808     7684    2405              3516        7844\n",
       "3        1       3  13265  1196     4221    6404               507        1788\n",
       "4        2       3  22615  5410     7198    3915              1777        5185"
      ]
     },
     "execution_count": 2,
     "metadata": {},
     "output_type": "execute_result"
    }
   ],
   "source": [
    "data.head()"
   ]
  },
  {
   "cell_type": "code",
   "execution_count": 3,
   "metadata": {
    "id": "IPO8OcsID6Fh"
   },
   "outputs": [
    {
     "data": {
      "text/plain": [
       "Channel             int64\n",
       "Region              int64\n",
       "Fresh               int64\n",
       "Milk                int64\n",
       "Grocery             int64\n",
       "Frozen              int64\n",
       "Detergents_Paper    int64\n",
       "Delicassen          int64\n",
       "dtype: object"
      ]
     },
     "execution_count": 3,
     "metadata": {},
     "output_type": "execute_result"
    }
   ],
   "source": [
    "data.dtypes"
   ]
  },
  {
   "cell_type": "markdown",
   "metadata": {
    "id": "lkQa0PvaD6Fi"
   },
   "source": [
    "Drop the channel and region columns as they won't be used.\n",
    "\n",
    "Copy this version of the data (using the `copy` method) to a variable to preserve it."
   ]
  },
  {
   "cell_type": "code",
   "execution_count": 4,
   "metadata": {
    "id": "y9aEbJbpD6Fi"
   },
   "outputs": [],
   "source": [
    "data = data.drop(['Channel', 'Region'], axis=1)"
   ]
  },
  {
   "cell_type": "markdown",
   "metadata": {
    "id": "gVpulhiBD6Fj"
   },
   "source": [
    "Convert the remaining columns to floats if necessary."
   ]
  },
  {
   "cell_type": "code",
   "execution_count": 5,
   "metadata": {
    "id": "e_eg2ua1D6Fk"
   },
   "outputs": [],
   "source": [
    "for col in data.columns:\n",
    "    data[col] = data[col].astype(float)"
   ]
  },
  {
   "cell_type": "markdown",
   "metadata": {
    "id": "z1g8tOpRD6Fk"
   },
   "source": [
    "Preserve the original data."
   ]
  },
  {
   "cell_type": "code",
   "execution_count": 6,
   "metadata": {
    "id": "99PbJK6cD6Fk"
   },
   "outputs": [],
   "source": [
    "data_orig = data.copy()"
   ]
  },
  {
   "cell_type": "markdown",
   "metadata": {
    "id": "6Qu6HZ6CD6Fl"
   },
   "source": [
    "Examine the correlation and skew."
   ]
  },
  {
   "cell_type": "code",
   "execution_count": 7,
   "metadata": {
    "id": "8o6a7QdQD6Fl"
   },
   "outputs": [
    {
     "data": {
      "text/html": [
       "<div>\n",
       "<style scoped>\n",
       "    .dataframe tbody tr th:only-of-type {\n",
       "        vertical-align: middle;\n",
       "    }\n",
       "\n",
       "    .dataframe tbody tr th {\n",
       "        vertical-align: top;\n",
       "    }\n",
       "\n",
       "    .dataframe thead th {\n",
       "        text-align: right;\n",
       "    }\n",
       "</style>\n",
       "<table border=\"1\" class=\"dataframe\">\n",
       "  <thead>\n",
       "    <tr style=\"text-align: right;\">\n",
       "      <th></th>\n",
       "      <th>Fresh</th>\n",
       "      <th>Milk</th>\n",
       "      <th>Grocery</th>\n",
       "      <th>Frozen</th>\n",
       "      <th>Detergents_Paper</th>\n",
       "      <th>Delicassen</th>\n",
       "    </tr>\n",
       "  </thead>\n",
       "  <tbody>\n",
       "    <tr>\n",
       "      <th>Fresh</th>\n",
       "      <td>0.000000</td>\n",
       "      <td>0.100510</td>\n",
       "      <td>-0.011854</td>\n",
       "      <td>0.345881</td>\n",
       "      <td>-0.101953</td>\n",
       "      <td>0.244690</td>\n",
       "    </tr>\n",
       "    <tr>\n",
       "      <th>Milk</th>\n",
       "      <td>0.100510</td>\n",
       "      <td>0.000000</td>\n",
       "      <td>0.728335</td>\n",
       "      <td>0.123994</td>\n",
       "      <td>0.661816</td>\n",
       "      <td>0.406368</td>\n",
       "    </tr>\n",
       "    <tr>\n",
       "      <th>Grocery</th>\n",
       "      <td>-0.011854</td>\n",
       "      <td>0.728335</td>\n",
       "      <td>0.000000</td>\n",
       "      <td>-0.040193</td>\n",
       "      <td>0.924641</td>\n",
       "      <td>0.205497</td>\n",
       "    </tr>\n",
       "    <tr>\n",
       "      <th>Frozen</th>\n",
       "      <td>0.345881</td>\n",
       "      <td>0.123994</td>\n",
       "      <td>-0.040193</td>\n",
       "      <td>0.000000</td>\n",
       "      <td>-0.131525</td>\n",
       "      <td>0.390947</td>\n",
       "    </tr>\n",
       "    <tr>\n",
       "      <th>Detergents_Paper</th>\n",
       "      <td>-0.101953</td>\n",
       "      <td>0.661816</td>\n",
       "      <td>0.924641</td>\n",
       "      <td>-0.131525</td>\n",
       "      <td>0.000000</td>\n",
       "      <td>0.069291</td>\n",
       "    </tr>\n",
       "    <tr>\n",
       "      <th>Delicassen</th>\n",
       "      <td>0.244690</td>\n",
       "      <td>0.406368</td>\n",
       "      <td>0.205497</td>\n",
       "      <td>0.390947</td>\n",
       "      <td>0.069291</td>\n",
       "      <td>0.000000</td>\n",
       "    </tr>\n",
       "  </tbody>\n",
       "</table>\n",
       "</div>"
      ],
      "text/plain": [
       "                     Fresh      Milk   Grocery    Frozen  Detergents_Paper  \\\n",
       "Fresh             0.000000  0.100510 -0.011854  0.345881         -0.101953   \n",
       "Milk              0.100510  0.000000  0.728335  0.123994          0.661816   \n",
       "Grocery          -0.011854  0.728335  0.000000 -0.040193          0.924641   \n",
       "Frozen            0.345881  0.123994 -0.040193  0.000000         -0.131525   \n",
       "Detergents_Paper -0.101953  0.661816  0.924641 -0.131525          0.000000   \n",
       "Delicassen        0.244690  0.406368  0.205497  0.390947          0.069291   \n",
       "\n",
       "                  Delicassen  \n",
       "Fresh               0.244690  \n",
       "Milk                0.406368  \n",
       "Grocery             0.205497  \n",
       "Frozen              0.390947  \n",
       "Detergents_Paper    0.069291  \n",
       "Delicassen          0.000000  "
      ]
     },
     "execution_count": 7,
     "metadata": {},
     "output_type": "execute_result"
    }
   ],
   "source": [
    "corr_mat = data.corr()\n",
    "\n",
    "# Strip the diagonal for future examination\n",
    "for x in range(corr_mat.shape[0]):\n",
    "    corr_mat.iloc[x,x] = 0.0\n",
    "\n",
    "corr_mat"
   ]
  },
  {
   "cell_type": "code",
   "execution_count": 8,
   "metadata": {
    "id": "CCSaJgjLD6Fl"
   },
   "outputs": [
    {
     "data": {
      "text/plain": [
       "Fresh                         Frozen\n",
       "Milk                         Grocery\n",
       "Grocery             Detergents_Paper\n",
       "Frozen                    Delicassen\n",
       "Detergents_Paper             Grocery\n",
       "Delicassen                      Milk\n",
       "dtype: object"
      ]
     },
     "execution_count": 8,
     "metadata": {},
     "output_type": "execute_result"
    }
   ],
   "source": [
    "corr_mat.abs().idxmax()"
   ]
  },
  {
   "cell_type": "markdown",
   "metadata": {
    "id": "Ts0Yr-8QD6Fm"
   },
   "source": [
    "Interpret the result of the correlation"
   ]
  },
  {
   "cell_type": "markdown",
   "metadata": {
    "id": "zuaQ958tD6Fm"
   },
   "source": [
    "*Stripping the diagonal results in correlations that are equal to 1 to be zero. This makes sense since in this dataset, correlation between the same columns results to a correlation equal to exactly 1, which isn't what we want to see. We want to ignore those, so, they are set to zero instead.*"
   ]
  },
  {
   "cell_type": "markdown",
   "metadata": {
    "id": "OZFgQHwlD6Fm"
   },
   "source": [
    "Examine the skew values and log transform."
   ]
  },
  {
   "cell_type": "code",
   "execution_count": 9,
   "metadata": {
    "id": "E6HhePokD6Fn"
   },
   "outputs": [
    {
     "data": {
      "text/plain": [
       "Delicassen          11.151586\n",
       "Frozen               5.907986\n",
       "Milk                 4.053755\n",
       "Detergents_Paper     3.631851\n",
       "Grocery              3.587429\n",
       "Fresh                2.561323\n",
       "dtype: float64"
      ]
     },
     "execution_count": 9,
     "metadata": {},
     "output_type": "execute_result"
    }
   ],
   "source": [
    "log_columns = data.skew().sort_values(ascending=False)\n",
    "log_columns = log_columns.loc[log_columns > 0.75]\n",
    "\n",
    "log_columns"
   ]
  },
  {
   "cell_type": "code",
   "execution_count": 10,
   "metadata": {
    "id": "4VRfG9aCD6Fn"
   },
   "outputs": [],
   "source": [
    "for col in log_columns.index:\n",
    "    data[col] = np.log1p(data[col])"
   ]
  },
  {
   "cell_type": "markdown",
   "metadata": {
    "id": "ng89m-GQD6Fo"
   },
   "source": [
    "Interpret the result"
   ]
  },
  {
   "cell_type": "markdown",
   "metadata": {
    "id": "my_5rWlrD6Fo"
   },
   "source": [
    "*idk man*"
   ]
  },
  {
   "cell_type": "markdown",
   "metadata": {
    "id": "FjANS7xdD6Fp"
   },
   "source": [
    "Scale the data again"
   ]
  },
  {
   "cell_type": "code",
   "execution_count": 11,
   "metadata": {
    "id": "O4__QZFzD6Fp"
   },
   "outputs": [],
   "source": [
    "from sklearn.preprocessing import MinMaxScaler\n",
    "\n",
    "mms = MinMaxScaler()\n",
    "\n",
    "for col in data.columns:\n",
    "    data[col] = mms.fit_transform(data[[col]]).squeeze()"
   ]
  },
  {
   "cell_type": "markdown",
   "metadata": {
    "id": "mirVg2VlD6Fp"
   },
   "source": [
    "Using Scikit-learn's pipeline function, recreate the data pre-processing scheme above (transformation and scaling) using a pipeline"
   ]
  },
  {
   "cell_type": "code",
   "execution_count": 12,
   "metadata": {
    "id": "RFYaS3zUD6Fp"
   },
   "outputs": [],
   "source": [
    "from sklearn.preprocessing import FunctionTransformer\n",
    "from sklearn.pipeline import Pipeline\n",
    "\n",
    "# The custom NumPy log transformer\n",
    "log_transformer = FunctionTransformer(np.log1p)\n",
    "\n",
    "# The pipeline\n",
    "estimators = [('log1p', log_transformer), ('minmaxscale', MinMaxScaler())]\n",
    "pipeline = Pipeline(estimators)\n",
    "\n",
    "# Convert the original data\n",
    "data_pipe = pipeline.fit_transform(data_orig)"
   ]
  },
  {
   "cell_type": "code",
   "execution_count": 13,
   "metadata": {
    "id": "McDRNGxXD6Fq"
   },
   "outputs": [
    {
     "data": {
      "text/plain": [
       "True"
      ]
     },
     "execution_count": 13,
     "metadata": {},
     "output_type": "execute_result"
    }
   ],
   "source": [
    "np.allclose(data_pipe, data)"
   ]
  },
  {
   "cell_type": "markdown",
   "metadata": {
    "id": "RCzxg4qVD6Ft"
   },
   "source": [
    "Perform PCA with n_components ranging from 1 to 5. Store the amount of explained variance for each number of dimensions.Also store the feature importance for each number of dimensions."
   ]
  },
  {
   "cell_type": "code",
   "execution_count": 14,
   "metadata": {
    "id": "0LoLoVFCD6Fu"
   },
   "outputs": [
    {
     "data": {
      "text/html": [
       "<div>\n",
       "<style scoped>\n",
       "    .dataframe tbody tr th:only-of-type {\n",
       "        vertical-align: middle;\n",
       "    }\n",
       "\n",
       "    .dataframe tbody tr th {\n",
       "        vertical-align: top;\n",
       "    }\n",
       "\n",
       "    .dataframe thead th {\n",
       "        text-align: right;\n",
       "    }\n",
       "</style>\n",
       "<table border=\"1\" class=\"dataframe\">\n",
       "  <thead>\n",
       "    <tr style=\"text-align: right;\">\n",
       "      <th></th>\n",
       "      <th>model</th>\n",
       "      <th>var</th>\n",
       "    </tr>\n",
       "    <tr>\n",
       "      <th>n</th>\n",
       "      <th></th>\n",
       "      <th></th>\n",
       "    </tr>\n",
       "  </thead>\n",
       "  <tbody>\n",
       "    <tr>\n",
       "      <th>1</th>\n",
       "      <td>PCA(n_components=1)</td>\n",
       "      <td>0.448011</td>\n",
       "    </tr>\n",
       "    <tr>\n",
       "      <th>2</th>\n",
       "      <td>PCA(n_components=2)</td>\n",
       "      <td>0.72099</td>\n",
       "    </tr>\n",
       "    <tr>\n",
       "      <th>3</th>\n",
       "      <td>PCA(n_components=3)</td>\n",
       "      <td>0.827534</td>\n",
       "    </tr>\n",
       "    <tr>\n",
       "      <th>4</th>\n",
       "      <td>PCA(n_components=4)</td>\n",
       "      <td>0.923045</td>\n",
       "    </tr>\n",
       "    <tr>\n",
       "      <th>5</th>\n",
       "      <td>PCA(n_components=5)</td>\n",
       "      <td>0.979574</td>\n",
       "    </tr>\n",
       "  </tbody>\n",
       "</table>\n",
       "</div>"
      ],
      "text/plain": [
       "                 model       var\n",
       "n                               \n",
       "1  PCA(n_components=1)  0.448011\n",
       "2  PCA(n_components=2)   0.72099\n",
       "3  PCA(n_components=3)  0.827534\n",
       "4  PCA(n_components=4)  0.923045\n",
       "5  PCA(n_components=5)  0.979574"
      ]
     },
     "execution_count": 14,
     "metadata": {},
     "output_type": "execute_result"
    }
   ],
   "source": [
    "from sklearn.decomposition import PCA\n",
    "\n",
    "pca_list = list()\n",
    "feature_weight_list = list()\n",
    "\n",
    "# Fit a range of PCA models\n",
    "\n",
    "for n in range(1, 6):\n",
    "\n",
    "    # Create and fit the model\n",
    "    PCAmod = PCA(n_components=n)\n",
    "    PCAmod.fit(data)\n",
    "\n",
    "    # Store the model and variance\n",
    "    pca_list.append(pd.Series({'n':n, 'model':PCAmod,\n",
    "                               'var': PCAmod.explained_variance_ratio_.sum()}))\n",
    "\n",
    "    # Calculate and store feature importances\n",
    "    abs_feature_values = np.abs(PCAmod.components_).sum(axis=0)\n",
    "    feature_weight_list.append(pd.DataFrame({'n':n,\n",
    "                                             'features': data.columns,\n",
    "                                             'values':abs_feature_values/abs_feature_values.sum()}))\n",
    "\n",
    "pca_df = pd.concat(pca_list, axis=1).T.set_index('n')\n",
    "pca_df"
   ]
  },
  {
   "cell_type": "markdown",
   "metadata": {
    "id": "ylZldqDoD6Fv"
   },
   "source": [
    "Create a table of feature importances for each data column."
   ]
  },
  {
   "cell_type": "code",
   "execution_count": 15,
   "metadata": {
    "id": "RFUuPlW5D6Fv"
   },
   "outputs": [
    {
     "data": {
      "text/html": [
       "<div>\n",
       "<style scoped>\n",
       "    .dataframe tbody tr th:only-of-type {\n",
       "        vertical-align: middle;\n",
       "    }\n",
       "\n",
       "    .dataframe tbody tr th {\n",
       "        vertical-align: top;\n",
       "    }\n",
       "\n",
       "    .dataframe thead th {\n",
       "        text-align: right;\n",
       "    }\n",
       "</style>\n",
       "<table border=\"1\" class=\"dataframe\">\n",
       "  <thead>\n",
       "    <tr style=\"text-align: right;\">\n",
       "      <th>features</th>\n",
       "      <th>Delicassen</th>\n",
       "      <th>Detergents_Paper</th>\n",
       "      <th>Fresh</th>\n",
       "      <th>Frozen</th>\n",
       "      <th>Grocery</th>\n",
       "      <th>Milk</th>\n",
       "    </tr>\n",
       "    <tr>\n",
       "      <th>n</th>\n",
       "      <th></th>\n",
       "      <th></th>\n",
       "      <th></th>\n",
       "      <th></th>\n",
       "      <th></th>\n",
       "      <th></th>\n",
       "    </tr>\n",
       "  </thead>\n",
       "  <tbody>\n",
       "    <tr>\n",
       "      <th>1</th>\n",
       "      <td>0.071668</td>\n",
       "      <td>0.335487</td>\n",
       "      <td>0.060620</td>\n",
       "      <td>0.095979</td>\n",
       "      <td>0.190236</td>\n",
       "      <td>0.246010</td>\n",
       "    </tr>\n",
       "    <tr>\n",
       "      <th>2</th>\n",
       "      <td>0.151237</td>\n",
       "      <td>0.177519</td>\n",
       "      <td>0.158168</td>\n",
       "      <td>0.222172</td>\n",
       "      <td>0.112032</td>\n",
       "      <td>0.178872</td>\n",
       "    </tr>\n",
       "    <tr>\n",
       "      <th>3</th>\n",
       "      <td>0.165518</td>\n",
       "      <td>0.145815</td>\n",
       "      <td>0.211434</td>\n",
       "      <td>0.268363</td>\n",
       "      <td>0.084903</td>\n",
       "      <td>0.123967</td>\n",
       "    </tr>\n",
       "    <tr>\n",
       "      <th>4</th>\n",
       "      <td>0.224259</td>\n",
       "      <td>0.149981</td>\n",
       "      <td>0.239527</td>\n",
       "      <td>0.214275</td>\n",
       "      <td>0.070971</td>\n",
       "      <td>0.100987</td>\n",
       "    </tr>\n",
       "    <tr>\n",
       "      <th>5</th>\n",
       "      <td>0.211840</td>\n",
       "      <td>0.182447</td>\n",
       "      <td>0.196382</td>\n",
       "      <td>0.178104</td>\n",
       "      <td>0.067338</td>\n",
       "      <td>0.163888</td>\n",
       "    </tr>\n",
       "  </tbody>\n",
       "</table>\n",
       "</div>"
      ],
      "text/plain": [
       "features  Delicassen  Detergents_Paper     Fresh    Frozen   Grocery      Milk\n",
       "n                                                                             \n",
       "1           0.071668          0.335487  0.060620  0.095979  0.190236  0.246010\n",
       "2           0.151237          0.177519  0.158168  0.222172  0.112032  0.178872\n",
       "3           0.165518          0.145815  0.211434  0.268363  0.084903  0.123967\n",
       "4           0.224259          0.149981  0.239527  0.214275  0.070971  0.100987\n",
       "5           0.211840          0.182447  0.196382  0.178104  0.067338  0.163888"
      ]
     },
     "execution_count": 15,
     "metadata": {},
     "output_type": "execute_result"
    }
   ],
   "source": [
    "features_df = (pd.concat(feature_weight_list)\n",
    "               .pivot(index='n', columns='features', values='values'))\n",
    "\n",
    "features_df"
   ]
  },
  {
   "cell_type": "markdown",
   "metadata": {
    "id": "KrKhOl_xD6Fv"
   },
   "source": [
    "Create a plot of explained variances."
   ]
  },
  {
   "cell_type": "code",
   "execution_count": 16,
   "metadata": {
    "id": "OYJBNAkhD6Fw"
   },
   "outputs": [
    {
     "data": {
      "image/png": "[encoded data removed]",
      "text/plain": [
       "<Figure size 640x480 with 1 Axes>"
      ]
     },
     "metadata": {},
     "output_type": "display_data"
    }
   ],
   "source": [
    "sns.set_context('talk')\n",
    "\n",
    "ax = pca_df['var'].plot(kind='bar')\n",
    "\n",
    "ax.set(xlabel='Number of dimensions',\n",
    "       ylabel='Percent explained variance',\n",
    "       title='Explained Variance vs Dimensions');"
   ]
  },
  {
   "cell_type": "markdown",
   "metadata": {
    "id": "5UkS-LNED6Fw"
   },
   "source": [
    "And here's a plot of feature importances."
   ]
  },
  {
   "cell_type": "code",
   "execution_count": 17,
   "metadata": {
    "id": "0GGmLa0DD6Fw"
   },
   "outputs": [
    {
     "data": {
      "image/png": "[encoded data removed]",
      "text/plain": [
       "<Figure size 640x480 with 1 Axes>"
      ]
     },
     "metadata": {},
     "output_type": "display_data"
    }
   ],
   "source": [
    "ax = features_df.plot(kind='bar')\n",
    "\n",
    "ax.set(xlabel='Number of dimensions',\n",
    "       ylabel='Relative importance',\n",
    "       title='Feature importance vs Dimensions');"
   ]
  },
  {
   "cell_type": "markdown",
   "metadata": {
    "id": "a2wk_PjxD6Fx"
   },
   "source": [
    "Let us include the PCA in building the model using logistic regression and pipeline."
   ]
  },
  {
   "cell_type": "markdown",
   "metadata": {
    "id": "dMvEPtOJD6Fx"
   },
   "source": [
    "Load the dataset."
   ]
  },
  {
   "cell_type": "code",
   "execution_count": 20,
   "metadata": {
    "id": "hOkNctnUD6Fx"
   },
   "outputs": [],
   "source": [
    "filepath = 'datasets/Human_Activity_Recognition_Using_Smartphones_Data-1.csv'\n",
    "df = pd.read_csv(filepath)"
   ]
  },
  {
   "cell_type": "markdown",
   "metadata": {
    "id": "HKxBg6nZD6Fx"
   },
   "source": [
    "Create a pipeline, then predicts the \"Activity\" column over a 5-fold StratifiedShuffleSplit, and returns the average test accuracy"
   ]
  },
  {
   "cell_type": "code",
   "execution_count": 21,
   "metadata": {
    "id": "OATlCcrkD6Fy"
   },
   "outputs": [],
   "source": [
    "from sklearn.pipeline import Pipeline\n",
    "from sklearn.preprocessing import StandardScaler\n",
    "from sklearn.model_selection import StratifiedShuffleSplit\n",
    "from sklearn.linear_model import LogisticRegression\n",
    "from sklearn.metrics import accuracy_score\n",
    "\n",
    "\n",
    "X = df.drop('Activity', axis=1)\n",
    "y = df.Activity\n",
    "sss = StratifiedShuffleSplit(n_splits=5, random_state=42)\n",
    "\n",
    "def get_avg_score(n):\n",
    "    pipe = [\n",
    "        ('scaler', StandardScaler()),\n",
    "        ('pca', PCA(n_components=n)),\n",
    "        ('estimator', LogisticRegression(max_iter = 5000))\n",
    "    ]\n",
    "    pipe = Pipeline(pipe)\n",
    "    scores = []\n",
    "    for train_index, test_index in sss.split(X, y):\n",
    "        X_train, X_test = X.loc[train_index], X.loc[test_index]\n",
    "        y_train, y_test = y.loc[train_index], y.loc[test_index]\n",
    "        pipe.fit(X_train, y_train)\n",
    "        scores.append(accuracy_score(y_test, pipe.predict(X_test)))\n",
    "    return np.mean(scores)\n",
    "\n",
    "\n",
    "ns = [10, 20, 50, 100, 150, 200, 300, 400]\n",
    "score_list = [get_avg_score(n) for n in ns]"
   ]
  },
  {
   "cell_type": "markdown",
   "metadata": {
    "id": "klLaB3ulD6Fy"
   },
   "source": [
    "Plot the average accuracy by number of dimensions."
   ]
  },
  {
   "cell_type": "code",
   "execution_count": 22,
   "metadata": {
    "id": "F0GLXzrUD6Fy"
   },
   "outputs": [
    {
     "data": {
      "image/png": "[encoded data removed]",
      "text/plain": [
       "<Figure size 640x480 with 1 Axes>"
      ]
     },
     "metadata": {},
     "output_type": "display_data"
    }
   ],
   "source": [
    "sns.set_context('talk')\n",
    "\n",
    "ax = plt.axes()\n",
    "ax.plot(ns, score_list)\n",
    "ax.set(xlabel='Number of Dimensions',\n",
    "       ylabel='Average Accuracy',\n",
    "       title='LogisticRegression Accuracy vs Number of dimensions on the Human Activity Dataset')\n",
    "ax.grid(True)"
   ]
  },
  {
   "cell_type": "markdown",
   "metadata": {
    "id": "oO5cWjVJD6Fz"
   },
   "source": [
    "#### Supplementary Activity:\n"
   ]
  },
  {
   "cell_type": "markdown",
   "metadata": {
    "id": "GBvymGYYF07d"
   },
   "source": [
    "* Choose your own dataset.\n"
   ]
  },
  {
   "cell_type": "markdown",
   "metadata": {},
   "source": [
    "*The chosen dataset for this activity is the [NATICUSdroid](https://archive.ics.uci.edu/dataset/722/naticusdroid+android+permissions+dataset), which contains permissions extracted from more than 29000 benign and malware Android apps released from 2010-2019.*\n",
    "\n",
    "*The instances in this dataset represent a presence of a permission in an Android application.*"
   ]
  },
  {
   "cell_type": "markdown",
   "metadata": {
    "id": "eNRTjp8wF2Km"
   },
   "source": [
    "* Import the dataset\n"
   ]
  },
  {
   "cell_type": "code",
   "execution_count": null,
   "metadata": {},
   "outputs": [],
   "source": [
    "import pandas as pd\n",
    "naticus = pd.read_csv('datasets/NATICUSdroid.csv')\n",
    "naticus.head()"
   ]
  },
  {
   "cell_type": "markdown",
   "metadata": {
    "id": "H1ypx4tTF3qQ"
   },
   "source": [
    "* Determine the number of datapoints, columns and data types\n"
   ]
  },
  {
   "cell_type": "code",
   "execution_count": null,
   "metadata": {},
   "outputs": [],
   "source": [
    "print(\"Number of datapoints (rows):\", naticus.shape[0])\n",
    "print(\"Number of columns:\", naticus.shape[1])\n",
    "print(\"\\nData types:\\n\", naticus.dtypes)"
   ]
  },
  {
   "cell_type": "markdown",
   "metadata": {
    "id": "nq-c5FBfF5Ie"
   },
   "source": [
    "* Remove unneccesary columns\n"
   ]
  },
  {
   "cell_type": "markdown",
   "metadata": {},
   "source": [
    "*I don't think there are unnecessary columns in this dataset, since each column represents an Android app.*"
   ]
  },
  {
   "cell_type": "markdown",
   "metadata": {
    "id": "Z22axpvmF6WY"
   },
   "source": [
    "* Do data cleaning such as removing empty values(NaN), replacing missing data .\n"
   ]
  },
  {
   "cell_type": "code",
   "execution_count": null,
   "metadata": {},
   "outputs": [],
   "source": [
    "#check for missing values\n",
    "print(\"\\nMissing values per column:\\n\", naticus.isnull().sum())"
   ]
  },
  {
   "cell_type": "markdown",
   "metadata": {
    "id": "g5YNaX4BF7g-"
   },
   "source": [
    "* Standardize the variables (if necessary).\n"
   ]
  },
  {
   "cell_type": "markdown",
   "metadata": {},
   "source": [
    "*Since the values in the instances within the dataset are all boolean values, no standardization of variables is necessary*"
   ]
  },
  {
   "cell_type": "markdown",
   "metadata": {
    "id": "XSEtqMmmF9BG"
   },
   "source": [
    "* Perform descriptive statistics such as mean, median and mode\n"
   ]
  },
  {
   "cell_type": "code",
   "execution_count": null,
   "metadata": {},
   "outputs": [],
   "source": [
    "naticus.mean()"
   ]
  },
  {
   "cell_type": "markdown",
   "metadata": {
    "id": "qb8lAj8MF-N1"
   },
   "source": [
    "* Perform data visualization\n"
   ]
  },
  {
   "cell_type": "markdown",
   "metadata": {
    "id": "om79LpDiF_RO"
   },
   "source": [
    "* Use pipelining.\n"
   ]
  },
  {
   "cell_type": "code",
   "execution_count": null,
   "metadata": {},
   "outputs": [],
   "source": [
    "from sklearn.pipeline import Pipeline\n",
    "from sklearn.preprocessing import StandardScaler\n",
    "from sklearn.model_selection import StratifiedShuffleSplit\n",
    "from sklearn.linear_model import LogisticRegression\n",
    "from sklearn.metrics import accuracy_score\n",
    "\n",
    "\n",
    "X = df.drop('Activity', axis=1)\n",
    "y = df.Activity\n",
    "sss = StratifiedShuffleSplit(n_splits=5, random_state=42)\n",
    "\n",
    "def get_avg_score(n):\n",
    "    pipe = [\n",
    "        ('scaler', StandardScaler()),\n",
    "        ('pca', PCA(n_components=n)),\n",
    "        ('estimator', LogisticRegression(max_iter = 5000))\n",
    "    ]\n",
    "    pipe = Pipeline(pipe)\n",
    "    scores = []\n",
    "    for train_index, test_index in sss.split(X, y):\n",
    "        X_train, X_test = X.loc[train_index], X.loc[test_index]\n",
    "        y_train, y_test = y.loc[train_index], y.loc[test_index]\n",
    "        pipe.fit(X_train, y_train)\n",
    "        scores.append(accuracy_score(y_test, pipe.predict(X_test)))\n",
    "    return np.mean(scores)\n",
    "\n",
    "\n",
    "ns = [10, 20, 50, 100, 150, 200, 300, 400]\n",
    "score_list = [get_avg_score(n) for n in ns]"
   ]
  },
  {
   "cell_type": "markdown",
   "metadata": {
    "id": "ZYwnu-WBGAVt"
   },
   "source": [
    "* Perform PCA\n"
   ]
  },
  {
   "cell_type": "markdown",
   "metadata": {
    "id": "bSL2fPFKGBk2"
   },
   "source": [
    "* Use logistic regression with PCA.\n"
   ]
  },
  {
   "cell_type": "markdown",
   "metadata": {
    "id": "lbH4UU0_GCjO"
   },
   "source": [
    "* Plot the average accuracy by number of dimensions."
   ]
  },
  {
   "cell_type": "markdown",
   "metadata": {
    "id": "NNSxCr3PD6Fz"
   },
   "source": [
    "#### Conclusion"
   ]
  },
  {
   "cell_type": "markdown",
   "metadata": {
    "id": "BQfzTUf2D6Fz"
   },
   "source": [
    "Type your answer here"
   ]
  }
 ],
 "metadata": {
  "colab": {
   "provenance": []
  },
  "kernelspec": {
   "display_name": "CPE312_Pascual",
   "language": "python",
   "name": "python3"
  },
  "language_info": {
   "codemirror_mode": {
    "name": "ipython",
    "version": 3
   },
   "file_extension": ".py",
   "mimetype": "text/x-python",
   "name": "python",
   "nbconvert_exporter": "python",
   "pygments_lexer": "ipython3",
   "version": "3.12.11"
  }
 },
 "nbformat": 4,
 "nbformat_minor": 4
}
