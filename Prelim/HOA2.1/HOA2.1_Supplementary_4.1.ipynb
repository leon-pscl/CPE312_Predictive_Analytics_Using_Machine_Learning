{
 "cells": [
  {
   "cell_type": "markdown",
   "id": "8cd7ea6b-c397-45bc-8588-c82ffa764ea0",
   "metadata": {},
   "source": [
    "[Google Colab of whole HOA](https://colab.research.google.com/drive/1ai5u--wbPp5rvSAhCLbqbqzo4DdAvRjQ?usp=sharing)"
   ]
  },
  {
   "cell_type": "markdown",
   "id": "20dfbfc7-33cb-484b-8731-2236a3cdcad0",
   "metadata": {},
   "source": [
    "# Hands-on Activity 2.1: Training Linear Models"
   ]
  },
  {
   "cell_type": "markdown",
   "id": "4f2cc864-c621-4df2-bc22-dd15e8a063ab",
   "metadata": {},
   "source": [
    "## Supplementary Activity"
   ]
  },
  {
   "cell_type": "markdown",
   "id": "bcfe4d65-a7fb-4e2e-b2a4-050eed6e75b8",
   "metadata": {},
   "source": [
    "#### 4.1 Linear Regression\n"
   ]
  },
  {
   "cell_type": "markdown",
   "id": "0215d52a-aad6-45e8-8ecb-76dfba00e24d",
   "metadata": {},
   "source": [
    "* Choose your own dataset\n",
    "* Import the dataset\n",
    "* Determine the number of datapoints, columns and data types\n",
    "* Remove unneccesary columns\n",
    "* Do data cleaning such as removing empty values.\n",
    "* Perform descriptive statistics such as mean, median and mode\n",
    "* Compute the correlation\n",
    "* Use One-hot encoding in categorical features\n",
    "* Apply feature scaling\n",
    "* Perform linear regression using one independent variable only using numpy\n",
    "* Perform linear regression using multiple independent variable using statsmodel\n",
    "* Perform linear regression using sklearn\n"
   ]
  }
 ],
 "metadata": {
  "kernelspec": {
   "display_name": "Python 3 (ipykernel)",
   "language": "python",
   "name": "python3"
  },
  "language_info": {
   "codemirror_mode": {
    "name": "ipython",
    "version": 3
   },
   "file_extension": ".py",
   "mimetype": "text/x-python",
   "name": "python",
   "nbconvert_exporter": "python",
   "pygments_lexer": "ipython3",
   "version": "3.12.7"
  }
 },
 "nbformat": 4,
 "nbformat_minor": 5
}
