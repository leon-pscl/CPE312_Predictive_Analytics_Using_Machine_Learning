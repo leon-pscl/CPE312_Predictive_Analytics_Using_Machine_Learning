{
 "cells": [
  {
   "cell_type": "markdown",
   "id": "8cd7ea6b-c397-45bc-8588-c82ffa764ea0",
   "metadata": {},
   "source": [
    "[Google Colab of whole HOA](https://colab.research.google.com/drive/1ai5u--wbPp5rvSAhCLbqbqzo4DdAvRjQ?usp=sharing)"
   ]
  },
  {
   "cell_type": "markdown",
   "id": "20dfbfc7-33cb-484b-8731-2236a3cdcad0",
   "metadata": {},
   "source": [
    "# Hands-on Activity 2.1: Training Linear Models"
   ]
  },
  {
   "cell_type": "markdown",
   "id": "4f2cc864-c621-4df2-bc22-dd15e8a063ab",
   "metadata": {},
   "source": [
    "## Supplementary Activity"
   ]
  },
  {
   "cell_type": "markdown",
   "id": "bcfe4d65-a7fb-4e2e-b2a4-050eed6e75b8",
   "metadata": {},
   "source": [
    "#### 4.1 Linear Regression\n"
   ]
  },
  {
   "cell_type": "markdown",
   "id": "0215d52a-aad6-45e8-8ecb-76dfba00e24d",
   "metadata": {},
   "source": [
    "* Choose your own dataset\n",
    "* Import the dataset"
   ]
  },
  {
   "cell_type": "code",
   "execution_count": null,
   "id": "f27a6700-937b-46d0-b4c1-b5cd49674c95",
   "metadata": {},
   "outputs": [],
   "source": []
  },
  {
   "cell_type": "markdown",
   "id": "70b87443-e6af-4d1f-b930-0691b630fc53",
   "metadata": {},
   "source": [
    "* Determine the number of datapoints, columns and data types\n"
   ]
  },
  {
   "cell_type": "markdown",
   "id": "09b6c5a3-6a92-46b3-b439-8c15ef5f960e",
   "metadata": {},
   "source": [
    "* Remove unneccesary columns\n",
    "* Do data cleaning such as removing empty values.\n"
   ]
  },
  {
   "cell_type": "markdown",
   "id": "9d624a19-b726-4624-9ffe-775b8253cb3a",
   "metadata": {},
   "source": [
    "* Perform descriptive statistics such as mean, median and mode\n"
   ]
  },
  {
   "cell_type": "markdown",
   "id": "f7e4efef-4aa3-4b1b-8f27-97d39dcea3af",
   "metadata": {},
   "source": [
    "* Compute the correlation\n"
   ]
  },
  {
   "cell_type": "markdown",
   "id": "b4f42a74-fc0b-4f0e-956b-43c5620c49b0",
   "metadata": {},
   "source": [
    "* Use One-hot encoding in categorical features\n"
   ]
  },
  {
   "cell_type": "markdown",
   "id": "fc74f5ae-765b-4dce-8672-ee6127328b07",
   "metadata": {},
   "source": [
    "* Apply feature scaling\n"
   ]
  },
  {
   "cell_type": "markdown",
   "id": "40689ec3-93e5-4013-bc39-ee133989f6ce",
   "metadata": {},
   "source": [
    "* Perform linear regression using one independent variable only using numpy\n"
   ]
  },
  {
   "cell_type": "markdown",
   "id": "ccf0d6b9-84a0-4c8a-9596-722ceecd7139",
   "metadata": {},
   "source": [
    "* Perform linear regression using multiple independent variable using statsmodel\n"
   ]
  },
  {
   "cell_type": "markdown",
   "id": "6b86fe15-c548-49f3-b98f-ea0c0a2ab79d",
   "metadata": {},
   "source": [
    "* Perform linear regression using sklearn"
   ]
  }
 ],
 "metadata": {
  "kernelspec": {
   "display_name": "Python 3 (ipykernel)",
   "language": "python",
   "name": "python3"
  },
  "language_info": {
   "codemirror_mode": {
    "name": "ipython",
    "version": 3
   },
   "file_extension": ".py",
   "mimetype": "text/x-python",
   "name": "python",
   "nbconvert_exporter": "python",
   "pygments_lexer": "ipython3",
   "version": "3.12.7"
  }
 },
 "nbformat": 4,
 "nbformat_minor": 5
}
