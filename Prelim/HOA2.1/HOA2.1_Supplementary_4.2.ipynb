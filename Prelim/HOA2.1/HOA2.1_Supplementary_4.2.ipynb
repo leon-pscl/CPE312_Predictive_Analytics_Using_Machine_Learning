{
 "cells": [
  {
   "cell_type": "markdown",
   "id": "7fc1e680-9206-4087-ac76-cae9b585160b",
   "metadata": {},
   "source": [
    "[Google Colab of whole HOA](https://colab.research.google.com/drive/1ai5u--wbPp5rvSAhCLbqbqzo4DdAvRjQ?usp=sharing)"
   ]
  },
  {
   "cell_type": "markdown",
   "id": "20dfbfc7-33cb-484b-8731-2236a3cdcad0",
   "metadata": {},
   "source": [
    "# Hands-on Activity 2.1: Training Linear Models"
   ]
  },
  {
   "cell_type": "markdown",
   "id": "4f2cc864-c621-4df2-bc22-dd15e8a063ab",
   "metadata": {},
   "source": [
    "## Supplementary Activity"
   ]
  },
  {
   "cell_type": "markdown",
   "id": "bcfe4d65-a7fb-4e2e-b2a4-050eed6e75b8",
   "metadata": {},
   "source": [
    "#### 4.2 Polynomial Regression"
   ]
  },
  {
   "cell_type": "markdown",
   "id": "0215d52a-aad6-45e8-8ecb-76dfba00e24d",
   "metadata": {},
   "source": [
    "* Choose your own dataset\n",
    "* Import the dataset\n"
   ]
  },
  {
   "cell_type": "markdown",
   "id": "e5915f39-1d49-404e-8ebb-6d70254b9b43",
   "metadata": {},
   "source": [
    "* Perform polynomial regression using sklearn and polyfit\n"
   ]
  },
  {
   "cell_type": "markdown",
   "id": "64708292-a8c0-4c8f-8495-094cc7dbfc51",
   "metadata": {},
   "source": [
    "* Measure the performance for each polynomial degree.\n"
   ]
  },
  {
   "cell_type": "markdown",
   "id": "2c416203-b41b-4319-aa8c-c716cf72e423",
   "metadata": {},
   "source": [
    "* Plot the performance of the model for each polynomial degree."
   ]
  }
 ],
 "metadata": {
  "kernelspec": {
   "display_name": "Python 3 (ipykernel)",
   "language": "python",
   "name": "python3"
  },
  "language_info": {
   "codemirror_mode": {
    "name": "ipython",
    "version": 3
   },
   "file_extension": ".py",
   "mimetype": "text/x-python",
   "name": "python",
   "nbconvert_exporter": "python",
   "pygments_lexer": "ipython3",
   "version": "3.12.7"
  }
 },
 "nbformat": 4,
 "nbformat_minor": 5
}
