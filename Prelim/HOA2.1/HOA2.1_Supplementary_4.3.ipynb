{
 "cells": [
  {
   "cell_type": "markdown",
   "id": "7fc1e680-9206-4087-ac76-cae9b585160b",
   "metadata": {},
   "source": [
    "[Google Colab of whole HOA](https://colab.research.google.com/drive/1ai5u--wbPp5rvSAhCLbqbqzo4DdAvRjQ?usp=sharing)"
   ]
  },
  {
   "cell_type": "markdown",
   "id": "20dfbfc7-33cb-484b-8731-2236a3cdcad0",
   "metadata": {},
   "source": [
    "# Hands-on Activity 2.1: Training Linear Models"
   ]
  },
  {
   "cell_type": "markdown",
   "id": "4f2cc864-c621-4df2-bc22-dd15e8a063ab",
   "metadata": {},
   "source": [
    "## Supplementary Activity"
   ]
  },
  {
   "cell_type": "markdown",
   "id": "bcfe4d65-a7fb-4e2e-b2a4-050eed6e75b8",
   "metadata": {},
   "source": [
    "#### 4.3 Logistic Regression"
   ]
  },
  {
   "cell_type": "markdown",
   "id": "0215d52a-aad6-45e8-8ecb-76dfba00e24d",
   "metadata": {},
   "source": [
    "* Choose your own dataset\n",
    "* Import the dataset\n"
   ]
  },
  {
   "cell_type": "markdown",
   "id": "4fff9897-22d5-4bc6-b3cc-74b707a7f824",
   "metadata": {},
   "source": [
    "* Determine the number of datapoints, columns and data types\n"
   ]
  },
  {
   "cell_type": "markdown",
   "id": "a77338aa-a726-41c8-89da-5d6eee5548fa",
   "metadata": {},
   "source": [
    "* Remove unneccesary columns\n",
    "* Do data cleaning such as removing empty values(NaN), replacing missing data .\n"
   ]
  },
  {
   "cell_type": "markdown",
   "id": "35e2a6f0-05a4-4db2-950c-d90b2cd53f06",
   "metadata": {},
   "source": [
    "* Perform descriptive statistics such as mean, median and mode\n"
   ]
  },
  {
   "cell_type": "markdown",
   "id": "66c50265-e52f-4c55-a176-99040afba765",
   "metadata": {},
   "source": [
    "* Perform data visualization\n"
   ]
  },
  {
   "cell_type": "markdown",
   "id": "5e6aafed-e995-4955-b8ba-ddf42888599e",
   "metadata": {},
   "source": [
    "* Solve classification problem using Logistic Regression\n"
   ]
  },
  {
   "cell_type": "markdown",
   "id": "34d0541d-b7f8-4c5f-96c7-4b0b7a701d0f",
   "metadata": {},
   "source": [
    "* Evaluate the model using classification report, accuracy and confusion matrix"
   ]
  }
 ],
 "metadata": {
  "kernelspec": {
   "display_name": "Python 3 (ipykernel)",
   "language": "python",
   "name": "python3"
  },
  "language_info": {
   "codemirror_mode": {
    "name": "ipython",
    "version": 3
   },
   "file_extension": ".py",
   "mimetype": "text/x-python",
   "name": "python",
   "nbconvert_exporter": "python",
   "pygments_lexer": "ipython3",
   "version": "3.12.7"
  }
 },
 "nbformat": 4,
 "nbformat_minor": 5
}
