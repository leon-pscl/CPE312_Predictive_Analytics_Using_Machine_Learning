{
 "cells": [
  {
   "cell_type": "code",
   "execution_count": 44,
   "id": "7f1230ac-9e57-42a4-8848-e9e5e6286f50",
   "metadata": {},
   "outputs": [],
   "source": [
    "import os\n",
    "import whisper\n",
    "import yt_dlp\n",
    "from pydub import AudioSegment\n"
   ]
  },
  {
   "cell_type": "code",
   "execution_count": 46,
   "id": "66d10ab9-0db0-4989-8796-0b229ea119cb",
   "metadata": {},
   "outputs": [],
   "source": [
    "def download_youtube_audio(url, output_dir=\"downloads\"):\n",
    "    os.makedirs(output_dir, exist_ok=True)\n",
    "    ydl_opts = {\n",
    "        \"format\": \"bestaudio/best\",\n",
    "        \"outtmpl\": f\"{output_dir}/%(title)s.%(ext)s\",\n",
    "        \"postprocessors\": [{\n",
    "            \"key\": \"FFmpegExtractAudio\",\n",
    "            \"preferredcodec\": \"wav\",\n",
    "            \"preferredquality\": \"192\",\n",
    "        }],\n",
    "    }\n",
    "    with yt_dlp.YoutubeDL(ydl_opts) as ydl:\n",
    "        ydl.download([url])"
   ]
  },
  {
   "cell_type": "code",
   "execution_count": 48,
   "id": "a38a5ef1-7aac-496f-aa06-bdfbc85c6e5b",
   "metadata": {},
   "outputs": [],
   "source": [
    "model = whisper.load_model(\"base\")  # Can switch to \"small\" or \"medium\" for better accuracy\n",
    "\n",
    "def find_hello_segments(audio_path):\n",
    "    result = model.transcribe(audio_path)\n",
    "    segments = []\n",
    "    for seg in result[\"segments\"]:\n",
    "        if \"hello\" in seg[\"text\"].lower():\n",
    "            segments.append((seg[\"start\"], seg[\"end\"]))\n",
    "    return segments\n"
   ]
  },
  {
   "cell_type": "code",
   "execution_count": 49,
   "id": "0d2aebf0-7462-4ec2-b273-1b94446bbaa4",
   "metadata": {},
   "outputs": [],
   "source": [
    "def extract_clips(audio_path, segments, output_dir=\"hello_dataset\"):\n",
    "    os.makedirs(output_dir, exist_ok=True)\n",
    "    audio = AudioSegment.from_wav(audio_path)\n",
    "    \n",
    "    # Use the base name of the audio file (without extension)\n",
    "    base_name = os.path.splitext(os.path.basename(audio_path))[0]\n",
    "\n",
    "    for idx, (start, end) in enumerate(segments):\n",
    "        clip = audio[start*1000:end*1000]  # convert sec → ms\n",
    "        clip_name = os.path.join(output_dir, f\"{base_name}_hello_clip_{idx+1}.wav\")\n",
    "        clip.export(clip_name, format=\"wav\")\n",
    "        print(f\"Saved: {clip_name}\")\n"
   ]
  },
  {
   "cell_type": "code",
   "execution_count": 41,
   "id": "fd5604cf-3427-47ee-8680-e1493de8c6bb",
   "metadata": {},
   "outputs": [
    {
     "name": "stdout",
     "output_type": "stream",
     "text": [
      "\n",
      "🔹 Processing: https://www.youtube.com/watch?v=EYt6uDr-PHQ\n",
      "[youtube] Extracting URL: https://www.youtube.com/watch?v=EYt6uDr-PHQ\n",
      "[youtube] EYt6uDr-PHQ: Downloading webpage\n",
      "[youtube] EYt6uDr-PHQ: Downloading tv simply player API JSON\n",
      "[youtube] EYt6uDr-PHQ: Downloading tv client config\n",
      "[youtube] EYt6uDr-PHQ: Downloading tv player API JSON\n",
      "[info] EYt6uDr-PHQ: Downloading 1 format(s): 251\n",
      "[download] Sleeping 3.00 seconds as required by the site...\n",
      "[download] Destination: downloads\\The Future of Game Development.webm\n",
      "[download] 100% of    6.96MiB in 00:00:14 at 492.52KiB/s \n",
      "[ExtractAudio] Destination: downloads\\The Future of Game Development.wav\n",
      "Deleting original file downloads\\The Future of Game Development.webm (pass -k to keep)\n"
     ]
    },
    {
     "name": "stderr",
     "output_type": "stream",
     "text": [
      "C:\\ProgramData\\anaconda3\\envs\\CPE312_Pascual\\Lib\\site-packages\\whisper\\transcribe.py:132: UserWarning: FP16 is not supported on CPU; using FP32 instead\n",
      "  warnings.warn(\"FP16 is not supported on CPU; using FP32 instead\")\n"
     ]
    },
    {
     "name": "stdout",
     "output_type": "stream",
     "text": [
      "Saved: hello_dataset\\The Future of Game Development_hello_clip_1.wav\n",
      "Saved: hello_dataset\\The Future of Game Development_hello_clip_2.wav\n"
     ]
    }
   ],
   "source": [
    "def process_youtube_videos(video_urls):\n",
    "    for url in video_urls:\n",
    "        print(f\"\\n🔹 Processing: {url}\")\n",
    "        download_youtube_audio(url)\n",
    "        \n",
    "        # Get downloaded audio file\n",
    "        downloaded_files = sorted(os.listdir(\"downloads\"), key=lambda x: os.path.getmtime(os.path.join(\"downloads\", x)))\n",
    "        audio_path = os.path.join(\"downloads\", downloaded_files[-1])\n",
    "\n",
    "        # Find hello segments\n",
    "        hello_segments = find_hello_segments(audio_path)\n",
    "\n",
    "        if hello_segments:\n",
    "            extract_clips(audio_path, hello_segments)\n",
    "        else:\n",
    "            print(\"No 'hello' detected in this video!\")\n",
    "\n",
    "# Example usage\n",
    "urls = [\n",
    "    \"https://www.youtube.com/watch?v=EYt6uDr-PHQ\"\n",
    "    \n",
    "]\n",
    "process_youtube_videos(urls)\n"
   ]
  },
  {
   "cell_type": "code",
   "execution_count": null,
   "id": "b8598901-0b86-4a05-bd40-2198d9ac9a3a",
   "metadata": {},
   "outputs": [],
   "source": [
    "https://www.youtube.com/watch?v=wfzRJFNHnoQ\n",
    "https://www.youtube.com/watch?v=EXatnflnJKU\n",
    "https://www.youtube.com/watch?v=H_UxyQ7cb3I\n",
    "https://www.youtube.com/watch?v=_tWh4cYCTv0\n",
    "https://www.youtube.com/watch?v=EYt6uDr-PHQ"
   ]
  },
  {
   "cell_type": "code",
   "execution_count": null,
   "id": "bcb63d09-2bd6-42de-8994-d16b21327159",
   "metadata": {},
   "outputs": [],
   "source": [
    "import os\n",
    "import pandas as pd\n",
    "from tqdm import tqdm  # progress bar\n",
    "\n",
    "\n",
    "#  Get unlabeled clips\n",
    "\n",
    "raw_path = 'training_dataset/cv-corpus-16.1-delta-2023-12-06/en/clips'\n",
    "label_path = 'training_dataset/cv-corpus-16.1-delta-2023-12-06/en/validated.tsv'\n",
    "\n",
    "df = pd.read_csv(label_path, sep='\\t')\n",
    "\n",
    "# Unlabeled clips: gender not male/female\n",
    "unlabeled_df = df[~df['gender'].isin(['male', 'female'])].copy()\n",
    "unlabeled_df['mp3_path'] = unlabeled_df['path'].apply(lambda x: os.path.join(raw_path, x))\n",
    "\n",
    "print(f\"Found {len(unlabeled_df)} unlabeled clips\")\n",
    "\n",
    "\n",
    "# Extract features with progress bar\n",
    "\n",
    "unlabeled_features = []\n",
    "\n",
    "for file_path in tqdm(unlabeled_df['mp3_path'], desc=\"Extracting features\"):\n",
    "    feat = add_features(file_path)  # reuse your feature extraction function\n",
    "    feat['file_path'] = file_path\n",
    "    unlabeled_features.append(feat)\n",
    "\n",
    "unlabeled_audio_df = pd.DataFrame(unlabeled_features)\n",
    "\n",
    "\n",
    "#  Keep only training features\n",
    "\n",
    "feature_columns = x.columns  # features used in SVM/KNN training\n",
    "X_unlabeled = unlabeled_audio_df[feature_columns]\n",
    "\n",
    "#  Scale features using training scaler\n",
    "\n",
    "X_unlabeled_scaled = scaler.transform(X_unlabeled)\n",
    "\n",
    "\n",
    "# Predict with trained SVM\n",
    "\n",
    "y_unlabeled_pred = model.predict(X_unlabeled_scaled)\n",
    "y_unlabeled_labels = labelencoder.inverse_transform(y_unlabeled_pred)\n",
    "\n",
    "unlabeled_audio_df['predicted_gender'] = y_unlabeled_labels\n",
    "\n",
    "\n",
    "# 6️⃣ Output DataFrame\n",
    "\n",
    "unlabeled_audio_df[['file_path', 'predicted_gender']]\n",
    "output_csv = \"unlabeled_audio_predictions.csv\"\n",
    "unlabeled_audio_df[['file_path', 'predicted_gender']].to_csv(output_csv, index=False)\n",
    "print(f\"✅ Predictions saved to {output_csv}\")"
   ]
  }
 ],
 "metadata": {
  "kernelspec": {
   "display_name": "Python (myenv)",
   "language": "python",
   "name": "myenv"
  },
  "language_info": {
   "codemirror_mode": {
    "name": "ipython",
    "version": 3
   },
   "file_extension": ".py",
   "mimetype": "text/x-python",
   "name": "python",
   "nbconvert_exporter": "python",
   "pygments_lexer": "ipython3",
   "version": "3.12.11"
  }
 },
 "nbformat": 4,
 "nbformat_minor": 5
}
